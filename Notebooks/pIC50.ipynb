{
  "cells": [
    {
      "cell_type": "code",
      "execution_count": null,
      "metadata": {
        "id": "SS5rO3hcrvTx"
      },
      "outputs": [],
      "source": [
        "import numpy as np\n",
        "import pandas as pd\n",
        "import matplotlib.pyplot as plt\n",
        "import seaborn as sns"
      ]
    },
    {
      "cell_type": "code",
      "execution_count": 2,
      "metadata": {
        "id": "AGuCgCHHsnle"
      },
      "outputs": [],
      "source": [
        "xls = pd.ExcelFile('Supplementary file 2 - Data of presented compounds.xlsx')\n",
        "df = pd.read_excel(xls, 'Flavone',usecols = ['No.','Name', 'Acarbose.2', 'Test.2','Acarbose.3','Test.3'])\n",
        "df.columns = ['No','Name', '2.Acarbose (AG)', '1.Test (AG)', '4.Acarbose (AM)', '3.Test (AM)']\n",
        "#df = pd.read_excel(xls, 'Flavan-3-ol', usecols = ['Name', 'SMILES_standardized', 'Ratio', 'Ratio.1'])"
      ]
    },
    {
      "cell_type": "code",
      "execution_count": 3,
      "metadata": {
        "colab": {
          "base_uri": "https://localhost:8080/",
          "height": 833
        },
        "id": "CS5sZwpcwMAx",
        "outputId": "e3a4f97f-9793-47cd-d7d5-b0bdd48649a3"
      },
      "outputs": [
        {
          "data": {
            "text/html": [
              "<div>\n",
              "<style scoped>\n",
              "    .dataframe tbody tr th:only-of-type {\n",
              "        vertical-align: middle;\n",
              "    }\n",
              "\n",
              "    .dataframe tbody tr th {\n",
              "        vertical-align: top;\n",
              "    }\n",
              "\n",
              "    .dataframe thead th {\n",
              "        text-align: right;\n",
              "    }\n",
              "</style>\n",
              "<table border=\"1\" class=\"dataframe\">\n",
              "  <thead>\n",
              "    <tr style=\"text-align: right;\">\n",
              "      <th></th>\n",
              "      <th>No</th>\n",
              "      <th>Name</th>\n",
              "      <th>2.Acarbose (AG)</th>\n",
              "      <th>1.Test (AG)</th>\n",
              "      <th>4.Acarbose (AM)</th>\n",
              "      <th>3.Test (AM)</th>\n",
              "    </tr>\n",
              "  </thead>\n",
              "  <tbody>\n",
              "    <tr>\n",
              "      <th>0</th>\n",
              "      <td>24.0</td>\n",
              "      <td>Taxifolin</td>\n",
              "      <td>197.908397</td>\n",
              "      <td>198.974997</td>\n",
              "      <td>NaN</td>\n",
              "      <td>NaN</td>\n",
              "    </tr>\n",
              "    <tr>\n",
              "      <th>1</th>\n",
              "      <td>24.0</td>\n",
              "      <td>Taxifolin</td>\n",
              "      <td>185.250000</td>\n",
              "      <td>977.340000</td>\n",
              "      <td>NaN</td>\n",
              "      <td>NaN</td>\n",
              "    </tr>\n",
              "    <tr>\n",
              "      <th>2</th>\n",
              "      <td>24.0</td>\n",
              "      <td>Taxifolin</td>\n",
              "      <td>4.600000</td>\n",
              "      <td>45.860000</td>\n",
              "      <td>77.880000</td>\n",
              "      <td>31.26000</td>\n",
              "    </tr>\n",
              "    <tr>\n",
              "      <th>3</th>\n",
              "      <td>24.0</td>\n",
              "      <td>Taxifolin</td>\n",
              "      <td>0.590000</td>\n",
              "      <td>2946.970000</td>\n",
              "      <td>NaN</td>\n",
              "      <td>NaN</td>\n",
              "    </tr>\n",
              "    <tr>\n",
              "      <th>4</th>\n",
              "      <td>24.0</td>\n",
              "      <td>Taxifolin</td>\n",
              "      <td>50.000000</td>\n",
              "      <td>1740.000000</td>\n",
              "      <td>NaN</td>\n",
              "      <td>NaN</td>\n",
              "    </tr>\n",
              "    <tr>\n",
              "      <th>5</th>\n",
              "      <td>24.0</td>\n",
              "      <td>Taxifolin</td>\n",
              "      <td>1421.158966</td>\n",
              "      <td>124.976031</td>\n",
              "      <td>209.221876</td>\n",
              "      <td>5114.15076</td>\n",
              "    </tr>\n",
              "    <tr>\n",
              "      <th>6</th>\n",
              "      <td>25.0</td>\n",
              "      <td>Silibinin</td>\n",
              "      <td>194.200000</td>\n",
              "      <td>11.540000</td>\n",
              "      <td>1.990000</td>\n",
              "      <td>59.11000</td>\n",
              "    </tr>\n",
              "    <tr>\n",
              "      <th>7</th>\n",
              "      <td>26.0</td>\n",
              "      <td>Dysosmaflavanone</td>\n",
              "      <td>1020.000000</td>\n",
              "      <td>1382.000000</td>\n",
              "      <td>623.900000</td>\n",
              "      <td>1330.00000</td>\n",
              "    </tr>\n",
              "  </tbody>\n",
              "</table>\n",
              "</div>"
            ],
            "text/plain": [
              "     No              Name  2.Acarbose (AG)  1.Test (AG)  4.Acarbose (AM)  \\\n",
              "0  24.0         Taxifolin       197.908397   198.974997              NaN   \n",
              "1  24.0         Taxifolin       185.250000   977.340000              NaN   \n",
              "2  24.0         Taxifolin         4.600000    45.860000        77.880000   \n",
              "3  24.0         Taxifolin         0.590000  2946.970000              NaN   \n",
              "4  24.0         Taxifolin        50.000000  1740.000000              NaN   \n",
              "5  24.0         Taxifolin      1421.158966   124.976031       209.221876   \n",
              "6  25.0         Silibinin       194.200000    11.540000         1.990000   \n",
              "7  26.0  Dysosmaflavanone      1020.000000  1382.000000       623.900000   \n",
              "\n",
              "   3.Test (AM)  \n",
              "0          NaN  \n",
              "1          NaN  \n",
              "2     31.26000  \n",
              "3          NaN  \n",
              "4          NaN  \n",
              "5   5114.15076  \n",
              "6     59.11000  \n",
              "7   1330.00000  "
            ]
          },
          "execution_count": 3,
          "metadata": {},
          "output_type": "execute_result"
        }
      ],
      "source": [
        "df['Name'] = df['Name'].fillna(method='ffill')\n",
        "df['No'] = df['No'].fillna(method='ffill')\n",
        "df.head(25)"
      ]
    },
    {
      "attachments": {},
      "cell_type": "markdown",
      "metadata": {
        "id": "w5JDNr6H5UYX"
      },
      "source": [
        "# Melt"
      ]
    },
    {
      "cell_type": "code",
      "execution_count": 4,
      "metadata": {
        "id": "BT65E7mo5VrW"
      },
      "outputs": [],
      "source": [
        "df_melted = df.melt(id_vars=['No','Name'], value_vars=['2.Acarbose (AG)', '1.Test (AG)', '4.Acarbose (AM)', '3.Test (AM)'])"
      ]
    },
    {
      "cell_type": "code",
      "execution_count": 5,
      "metadata": {
        "colab": {
          "base_uri": "https://localhost:8080/",
          "height": 424
        },
        "id": "smm8GczB6YkZ",
        "outputId": "a4664089-c49d-400a-8596-c6df8e0edce9"
      },
      "outputs": [
        {
          "name": "stdout",
          "output_type": "stream",
          "text": [
            "<class 'pandas.core.frame.DataFrame'>\n",
            "Int64Index: 24 entries, 0 to 31\n",
            "Data columns (total 4 columns):\n",
            " #   Column    Non-Null Count  Dtype  \n",
            "---  ------    --------------  -----  \n",
            " 0   No        24 non-null     float64\n",
            " 1   Name      24 non-null     object \n",
            " 2   variable  24 non-null     object \n",
            " 3   value     24 non-null     float64\n",
            "dtypes: float64(2), object(2)\n",
            "memory usage: 960.0+ bytes\n"
          ]
        }
      ],
      "source": [
        "df_melted.dropna(inplace = True)\n",
        "df_melted.info()"
      ]
    },
    {
      "cell_type": "code",
      "execution_count": 6,
      "metadata": {
        "colab": {
          "base_uri": "https://localhost:8080/",
          "height": 206
        },
        "id": "IPfUrs5yPbis",
        "outputId": "6fb03ba4-ae60-4452-a2cc-b56f23fff073"
      },
      "outputs": [
        {
          "data": {
            "text/html": [
              "<div>\n",
              "<style scoped>\n",
              "    .dataframe tbody tr th:only-of-type {\n",
              "        vertical-align: middle;\n",
              "    }\n",
              "\n",
              "    .dataframe tbody tr th {\n",
              "        vertical-align: top;\n",
              "    }\n",
              "\n",
              "    .dataframe thead th {\n",
              "        text-align: right;\n",
              "    }\n",
              "</style>\n",
              "<table border=\"1\" class=\"dataframe\">\n",
              "  <thead>\n",
              "    <tr style=\"text-align: right;\">\n",
              "      <th></th>\n",
              "      <th>No</th>\n",
              "      <th>Name</th>\n",
              "      <th>variable</th>\n",
              "      <th>log</th>\n",
              "    </tr>\n",
              "  </thead>\n",
              "  <tbody>\n",
              "    <tr>\n",
              "      <th>0</th>\n",
              "      <td>24.0</td>\n",
              "      <td>Taxifolin</td>\n",
              "      <td>2.Acarbose (AG)</td>\n",
              "      <td>3.703536</td>\n",
              "    </tr>\n",
              "    <tr>\n",
              "      <th>1</th>\n",
              "      <td>24.0</td>\n",
              "      <td>Taxifolin</td>\n",
              "      <td>2.Acarbose (AG)</td>\n",
              "      <td>3.732242</td>\n",
              "    </tr>\n",
              "    <tr>\n",
              "      <th>2</th>\n",
              "      <td>24.0</td>\n",
              "      <td>Taxifolin</td>\n",
              "      <td>2.Acarbose (AG)</td>\n",
              "      <td>5.337242</td>\n",
              "    </tr>\n",
              "    <tr>\n",
              "      <th>3</th>\n",
              "      <td>24.0</td>\n",
              "      <td>Taxifolin</td>\n",
              "      <td>2.Acarbose (AG)</td>\n",
              "      <td>6.229148</td>\n",
              "    </tr>\n",
              "    <tr>\n",
              "      <th>4</th>\n",
              "      <td>24.0</td>\n",
              "      <td>Taxifolin</td>\n",
              "      <td>2.Acarbose (AG)</td>\n",
              "      <td>4.301030</td>\n",
              "    </tr>\n",
              "  </tbody>\n",
              "</table>\n",
              "</div>"
            ],
            "text/plain": [
              "     No       Name         variable       log\n",
              "0  24.0  Taxifolin  2.Acarbose (AG)  3.703536\n",
              "1  24.0  Taxifolin  2.Acarbose (AG)  3.732242\n",
              "2  24.0  Taxifolin  2.Acarbose (AG)  5.337242\n",
              "3  24.0  Taxifolin  2.Acarbose (AG)  6.229148\n",
              "4  24.0  Taxifolin  2.Acarbose (AG)  4.301030"
            ]
          },
          "execution_count": 6,
          "metadata": {},
          "output_type": "execute_result"
        }
      ],
      "source": [
        "df_melted['real_value'] = df_melted['value']*(10**(-6))\n",
        "df_melted['log'] = df_melted['real_value'].apply(lambda x: -np.log10(x)) \n",
        "df_melted.drop('value', inplace=True, axis=1)\n",
        "df_melted.drop('real_value', inplace=True, axis=1)\n",
        "df_melted.head()"
      ]
    },
    {
      "cell_type": "code",
      "execution_count": 7,
      "metadata": {},
      "outputs": [],
      "source": [
        "def q25(x):\n",
        "    return x.quantile(0.25)\n",
        "\n",
        "\n",
        "def q75(x):\n",
        "    return x.quantile(0.75)"
      ]
    },
    {
      "cell_type": "code",
      "execution_count": 8,
      "metadata": {},
      "outputs": [],
      "source": [
        "df_result=df_melted.groupby(['No','Name','variable']).agg({'log':[np.median,'count',q25,q75]})\n"
      ]
    },
    {
      "cell_type": "code",
      "execution_count": 9,
      "metadata": {},
      "outputs": [],
      "source": [
        "df_result.to_excel('Flavanonol.xlsx')"
      ]
    },
    {
      "cell_type": "code",
      "execution_count": null,
      "metadata": {},
      "outputs": [],
      "source": []
    }
  ],
  "metadata": {
    "colab": {
      "collapsed_sections": [],
      "provenance": []
    },
    "kernelspec": {
      "display_name": "Python 3.9.12 ('ML')",
      "language": "python",
      "name": "python3"
    },
    "language_info": {
      "codemirror_mode": {
        "name": "ipython",
        "version": 3
      },
      "file_extension": ".py",
      "mimetype": "text/x-python",
      "name": "python",
      "nbconvert_exporter": "python",
      "pygments_lexer": "ipython3",
      "version": "3.10.4"
    },
    "vscode": {
      "interpreter": {
        "hash": "8809126b2e3f6bd67afd8dec0aaf136102c3339cf179547b748c69a78a732e29"
      }
    }
  },
  "nbformat": 4,
  "nbformat_minor": 0
}
